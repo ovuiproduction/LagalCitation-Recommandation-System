{
 "cells": [
  {
   "cell_type": "code",
   "execution_count": 1,
   "id": "4e1e7a18-486d-442b-a551-05ae3e51cd8a",
   "metadata": {},
   "outputs": [
    {
     "name": "stdout",
     "output_type": "stream",
     "text": [
      "Files combined successfully into 'combined_file.pkl'\n"
     ]
    }
   ],
   "source": [
    "import pickle\n",
    "\n",
    "# Load the first .pkl file\n",
    "with open('embeddings_cache_8.pkl', 'rb') as f1:\n",
    "    data1 = pickle.load(f1)\n",
    "\n",
    "# Load the second .pkl file\n",
    "with open('embeddings_cache.pkl', 'rb') as f2:\n",
    "    data2 = pickle.load(f2)\n",
    "\n",
    "# Combine the two data objects depending on their type\n",
    "# For example, if they are lists, you can concatenate them\n",
    "if isinstance(data1, list) and isinstance(data2, list):\n",
    "    combined_data = data1 + data2\n",
    "elif isinstance(data1, dict) and isinstance(data2, dict):\n",
    "    combined_data = {**data1, **data2}  # Merge dictionaries\n",
    "else:\n",
    "    raise ValueError(\"Unsupported data types. Both files should contain lists or dictionaries.\")\n",
    "\n",
    "# Save the combined data into a new .pkl file\n",
    "with open('embeddings_cache_new.pkl', 'wb') as f_out:\n",
    "    pickle.dump(combined_data, f_out)\n",
    "\n",
    "print(\"Files combined successfully into 'combined_file.pkl'\")\n"
   ]
  },
  {
   "cell_type": "code",
   "execution_count": null,
   "id": "5b399ec7-9adf-4f39-a10a-d334b5eaaed3",
   "metadata": {},
   "outputs": [],
   "source": []
  }
 ],
 "metadata": {
  "kernelspec": {
   "display_name": "Python 3 (ipykernel)",
   "language": "python",
   "name": "python3"
  },
  "language_info": {
   "codemirror_mode": {
    "name": "ipython",
    "version": 3
   },
   "file_extension": ".py",
   "mimetype": "text/x-python",
   "name": "python",
   "nbconvert_exporter": "python",
   "pygments_lexer": "ipython3",
   "version": "3.12.0"
  }
 },
 "nbformat": 4,
 "nbformat_minor": 5
}
